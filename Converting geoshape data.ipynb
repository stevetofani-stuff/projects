{
 "cells": [
  {
   "cell_type": "markdown",
   "id": "ec28a794-7d06-42fd-911e-3dd44977127b",
   "metadata": {},
   "source": [
    "## Context:\n",
    "\n",
    "This was a very simple code that I made to fill a data conversion need. \n",
    "\n",
    "Data came in from a tool in this format: POLYGON ((-80.6166339 25.2756544, -65.8070636 18.4287094, -64.7523761 32.0929608, -80.6166339 25.2756544))\n",
    "\n",
    "And we needed to work with it in this JSON format: {\"geometry\":{\"type\":\"Polygon\",\"coordinates\":[[[-80.6166339,25.2756544],[-65.8070636,18.4287094],[-64.7523761,32.0929608],[-80.6166339,25.2756544]]]}}\n",
    "\n",
    "It does some hacky string manipulation, but it works and it is used to process hundreds of records like this every month.\n",
    "\n",
    "The data here is kept very high level to show the general way it is done, but for company privacy does not give too much detail."
   ]
  },
  {
   "cell_type": "code",
   "execution_count": 3,
   "id": "049409d0-b05c-4e69-bb61-c99adb70bd7e",
   "metadata": {},
   "outputs": [],
   "source": [
    "import pandas as pd"
   ]
  },
  {
   "cell_type": "code",
   "execution_count": 17,
   "id": "bb55eabb-6b01-43b9-b126-860496bc23e2",
   "metadata": {},
   "outputs": [
    {
     "ename": "SyntaxError",
     "evalue": "invalid syntax (281620461.py, line 1)",
     "output_type": "error",
     "traceback": [
      "\u001b[0;36m  Cell \u001b[0;32mIn[17], line 1\u001b[0;36m\u001b[0m\n\u001b[0;31m    file_path = # Add the file here\u001b[0m\n\u001b[0m                ^\u001b[0m\n\u001b[0;31mSyntaxError\u001b[0m\u001b[0;31m:\u001b[0m invalid syntax\n"
     ]
    }
   ],
   "source": [
    "file_path = # Add the file here\n",
    "\n",
    "df = pd.read_csv(file_path)\n"
   ]
  },
  {
   "cell_type": "code",
   "execution_count": 1,
   "id": "e1c9ff0e-7288-435a-81d3-2bed973a783b",
   "metadata": {},
   "outputs": [
    {
     "ename": "NameError",
     "evalue": "name 'df' is not defined",
     "output_type": "error",
     "traceback": [
      "\u001b[0;31m---------------------------------------------------------------------------\u001b[0m",
      "\u001b[0;31mNameError\u001b[0m                                 Traceback (most recent call last)",
      "Cell \u001b[0;32mIn[1], line 1\u001b[0m\n\u001b[0;32m----> 1\u001b[0m df\u001b[38;5;241m.\u001b[39mhead()\n",
      "\u001b[0;31mNameError\u001b[0m: name 'df' is not defined"
     ]
    }
   ],
   "source": [
    "df.head()"
   ]
  },
  {
   "cell_type": "code",
   "execution_count": 3,
   "id": "2e31a4c3-7bc1-4a74-a16e-93ad1c523909",
   "metadata": {},
   "outputs": [],
   "source": [
    "def raw_to_json_converter(raw_data):\n",
    "    formatted_coordinates = raw_data[8:].replace(\", \",\"],[\")\n",
    "    formatted_coordinates = formatted_coordinates.replace(\" \",\",\")\n",
    "    formatted_coordinates = formatted_coordinates.replace(\"((\",\"[[[\")\n",
    "    formatted_coordinates = formatted_coordinates.replace(\"))\",\"]]]\")\n",
    "    formatted_text = f'*\"geometry\":*\"type\":\"Polygon\",\"coordinates\":{formatted_coordinates}%%'\n",
    "    formatted_text = formatted_text.replace(\"*\",\"{\")\n",
    "    formatted_text = formatted_text.replace(\"%\",\"}\")\n",
    "\n",
    "    return formatted_text\n",
    "    "
   ]
  },
  {
   "cell_type": "code",
   "execution_count": 5,
   "id": "bbb6cca1-59ff-4a4f-8bd9-e39ff2e4b5c7",
   "metadata": {},
   "outputs": [
    {
     "ename": "NameError",
     "evalue": "name 'df' is not defined",
     "output_type": "error",
     "traceback": [
      "\u001b[0;31m---------------------------------------------------------------------------\u001b[0m",
      "\u001b[0;31mNameError\u001b[0m                                 Traceback (most recent call last)",
      "Cell \u001b[0;32mIn[5], line 3\u001b[0m\n\u001b[1;32m      1\u001b[0m \u001b[38;5;66;03m# Apply the function to data and get the formatted data in a new column\u001b[39;00m\n\u001b[0;32m----> 3\u001b[0m df[\u001b[38;5;124m'\u001b[39m\u001b[38;5;124mformatted_shape\u001b[39m\u001b[38;5;124m'\u001b[39m] \u001b[38;5;241m=\u001b[39m df\u001b[38;5;241m.\u001b[39mapply(\u001b[38;5;28;01mlambda\u001b[39;00m row: raw_to_json_converter(row[\u001b[38;5;124m'\u001b[39m\u001b[38;5;124mWKT\u001b[39m\u001b[38;5;124m'\u001b[39m]),axis\u001b[38;5;241m=\u001b[39m\u001b[38;5;241m1\u001b[39m)\n",
      "\u001b[0;31mNameError\u001b[0m: name 'df' is not defined"
     ]
    }
   ],
   "source": [
    "# Apply the function to data and get the formatted data in a new column\n",
    "\n",
    "df['formatted_shape'] = df.apply(lambda row: raw_to_json_converter(row['WKT']),axis=1)"
   ]
  },
  {
   "cell_type": "code",
   "execution_count": 7,
   "id": "2fad3d3b-a38f-4dea-a22e-8459903fd586",
   "metadata": {},
   "outputs": [
    {
     "ename": "NameError",
     "evalue": "name 'df' is not defined",
     "output_type": "error",
     "traceback": [
      "\u001b[0;31m---------------------------------------------------------------------------\u001b[0m",
      "\u001b[0;31mNameError\u001b[0m                                 Traceback (most recent call last)",
      "Cell \u001b[0;32mIn[7], line 1\u001b[0m\n\u001b[0;32m----> 1\u001b[0m df\u001b[38;5;241m.\u001b[39mhead()\n",
      "\u001b[0;31mNameError\u001b[0m: name 'df' is not defined"
     ]
    }
   ],
   "source": [
    "df.head()"
   ]
  },
  {
   "cell_type": "code",
   "execution_count": 9,
   "id": "ef3f59cc-35e8-4d79-9066-b4edcda1c9dd",
   "metadata": {},
   "outputs": [
    {
     "ename": "SyntaxError",
     "evalue": "invalid syntax (640760866.py, line 1)",
     "output_type": "error",
     "traceback": [
      "\u001b[0;36m  Cell \u001b[0;32mIn[9], line 1\u001b[0;36m\u001b[0m\n\u001b[0;31m    output_file_name = # Add the file here\u001b[0m\n\u001b[0m                       ^\u001b[0m\n\u001b[0;31mSyntaxError\u001b[0m\u001b[0;31m:\u001b[0m invalid syntax\n"
     ]
    }
   ],
   "source": [
    "output_file_name = # Add the file here\n",
    "\n",
    "df.to_csv(output_file_name,index=False)"
   ]
  },
  {
   "cell_type": "code",
   "execution_count": null,
   "id": "76a2355b-f9a4-47c9-b098-c2b30c7366f8",
   "metadata": {},
   "outputs": [],
   "source": []
  }
 ],
 "metadata": {
  "kernelspec": {
   "display_name": "Python 3 (ipykernel)",
   "language": "python",
   "name": "python3"
  },
  "language_info": {
   "codemirror_mode": {
    "name": "ipython",
    "version": 3
   },
   "file_extension": ".py",
   "mimetype": "text/x-python",
   "name": "python",
   "nbconvert_exporter": "python",
   "pygments_lexer": "ipython3",
   "version": "3.12.4"
  }
 },
 "nbformat": 4,
 "nbformat_minor": 5
}
